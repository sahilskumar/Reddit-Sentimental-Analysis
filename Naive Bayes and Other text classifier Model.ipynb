{
  "nbformat": 4,
  "nbformat_minor": 0,
  "metadata": {
    "colab": {
      "name": "Training.ipynb",
      "version": "0.3.2",
      "provenance": [],
      "collapsed_sections": []
    },
    "kernelspec": {
      "name": "python3",
      "display_name": "Python 3"
    }
  },
  "cells": [
    {
      "cell_type": "code",
      "metadata": {
        "id": "6_6Z0KH9c6oz",
        "colab_type": "code",
        "colab": {}
      },
      "source": [
        "import math\n",
        "import random \n",
        "from collections import defaultdict\n",
        "from pprint import pprint\n",
        "\n",
        "#prevent future depreciation and warnning\n",
        "import warnings \n",
        "warnings.filterwarnings(action='ignore')\n",
        "\n",
        "#Basic libraries\n",
        "import numpy as np\n",
        "import pandas as pd\n",
        "import seaborn as sns\n",
        "import matplotlib.pyplot as plt\n",
        "\n",
        "#setting\n",
        "sns.set_style(style='white')\n",
        "sns.set_context(context='notebook', font_scale=1.3, rc={'figure.figsize': (16,9)})"
      ],
      "execution_count": 0,
      "outputs": []
    },
    {
      "cell_type": "code",
      "metadata": {
        "id": "7JCcpZLajOYp",
        "colab_type": "code",
        "colab": {}
      },
      "source": [
        "from google.colab import files\n",
        "files.upload()"
      ],
      "execution_count": 0,
      "outputs": []
    },
    {
      "cell_type": "markdown",
      "metadata": {
        "id": "8kSVW3Gn0PtA",
        "colab_type": "text"
      },
      "source": [
        "# IMPORTING DATA"
      ]
    },
    {
      "cell_type": "code",
      "metadata": {
        "id": "kb6RmftXe32g",
        "colab_type": "code",
        "colab": {
          "base_uri": "https://localhost:8080/",
          "height": 133
        },
        "outputId": "ef282e1c-cf81-4872-d53f-310bb78fe2c7"
      },
      "source": [
        "df = pd.read_csv(\"reddit_headlines_labels\")\n",
        "df1 = pd.read_csv(\"reddit_headlines_labels_2\")\n",
        "df = df.append(df1)\n",
        "df = df.reset_index(drop=True)\n",
        "df.info()"
      ],
      "execution_count": 14,
      "outputs": [
        {
          "output_type": "stream",
          "text": [
            "<class 'pandas.core.frame.DataFrame'>\n",
            "RangeIndex: 1912 entries, 0 to 1911\n",
            "Data columns (total 2 columns):\n",
            "headline    1912 non-null object\n",
            "label       1912 non-null int64\n",
            "dtypes: int64(1), object(1)\n",
            "memory usage: 30.0+ KB\n"
          ],
          "name": "stdout"
        }
      ]
    },
    {
      "cell_type": "code",
      "metadata": {
        "id": "ji1XDpjAf5lK",
        "colab_type": "code",
        "colab": {
          "base_uri": "https://localhost:8080/",
          "height": 66
        },
        "outputId": "982f3ee0-e742-4ffc-c7c0-de61700e6811"
      },
      "source": [
        "df = df[df.label!=0]\n",
        "df['label'].value_counts()"
      ],
      "execution_count": 39,
      "outputs": [
        {
          "output_type": "execute_result",
          "data": {
            "text/plain": [
              "-1    686\n",
              " 1    360\n",
              "Name: label, dtype: int64"
            ]
          },
          "metadata": {
            "tags": []
          },
          "execution_count": 39
        }
      ]
    },
    {
      "cell_type": "code",
      "metadata": {
        "id": "P7sO12caq3S6",
        "colab_type": "code",
        "colab": {
          "base_uri": "https://localhost:8080/",
          "height": 50
        },
        "outputId": "be42be1a-0037-4eb3-8824-010c8ae5eeee"
      },
      "source": [
        "#Transform headline into features\n",
        "from sklearn.feature_extraction.text import CountVectorizer\n",
        "from sklearn.feature_extraction.text import CountVectorizer\n",
        "\n",
        "s1 = \"Senate panel moving ahead with Mueller bill despite McConnell opposition\"\n",
        "s2 = \"Bill protecting Robert Mueller to get vote despite McConnell opposition\"\n",
        "\n",
        "vect = CountVectorizer(binary=True)\n",
        "X = vect.fit_transform([s1, s2])\n",
        "\n",
        "X.toarray()"
      ],
      "execution_count": 50,
      "outputs": [
        {
          "output_type": "execute_result",
          "data": {
            "text/plain": [
              "array([[1, 1, 1, 0, 1, 1, 1, 1, 1, 0, 0, 1, 0, 0, 1],\n",
              "       [0, 1, 1, 1, 1, 0, 1, 1, 0, 1, 1, 0, 1, 1, 0]])"
            ]
          },
          "metadata": {
            "tags": []
          },
          "execution_count": 50
        }
      ]
    },
    {
      "cell_type": "code",
      "metadata": {
        "id": "A8BJ6zT8ruKp",
        "colab_type": "code",
        "colab": {
          "base_uri": "https://localhost:8080/",
          "height": 265
        },
        "outputId": "5b898feb-a636-4f90-b576-4f9562380c11"
      },
      "source": [
        "list(zip(X.toarray()[0], vect.get_feature_names()))"
      ],
      "execution_count": 51,
      "outputs": [
        {
          "output_type": "execute_result",
          "data": {
            "text/plain": [
              "[(1, 'ahead'),\n",
              " (1, 'bill'),\n",
              " (1, 'despite'),\n",
              " (0, 'get'),\n",
              " (1, 'mcconnell'),\n",
              " (1, 'moving'),\n",
              " (1, 'mueller'),\n",
              " (1, 'opposition'),\n",
              " (1, 'panel'),\n",
              " (0, 'protecting'),\n",
              " (0, 'robert'),\n",
              " (1, 'senate'),\n",
              " (0, 'to'),\n",
              " (0, 'vote'),\n",
              " (1, 'with')]"
            ]
          },
          "metadata": {
            "tags": []
          },
          "execution_count": 51
        }
      ]
    },
    {
      "cell_type": "code",
      "metadata": {
        "id": "nyoycdZ1u0Pu",
        "colab_type": "code",
        "colab": {
          "base_uri": "https://localhost:8080/",
          "height": 133
        },
        "outputId": "71da24e1-cc6f-4dca-82b2-baec9d3dce16"
      },
      "source": [
        "vect = CountVectorizer(max_features=1000, binary=True)\n",
        "X = vect.fit_transform(df.headline)\n",
        "\n",
        "X.toarray()"
      ],
      "execution_count": 88,
      "outputs": [
        {
          "output_type": "execute_result",
          "data": {
            "text/plain": [
              "array([[0, 0, 0, ..., 0, 0, 0],\n",
              "       [0, 0, 0, ..., 0, 0, 0],\n",
              "       [0, 0, 0, ..., 0, 0, 0],\n",
              "       ...,\n",
              "       [0, 0, 0, ..., 0, 0, 0],\n",
              "       [0, 0, 0, ..., 0, 0, 0],\n",
              "       [0, 0, 0, ..., 0, 0, 0]])"
            ]
          },
          "metadata": {
            "tags": []
          },
          "execution_count": 88
        }
      ]
    },
    {
      "cell_type": "markdown",
      "metadata": {
        "id": "UPdXCtg9vNTm",
        "colab_type": "text"
      },
      "source": [
        "# Preprocessing Data"
      ]
    },
    {
      "cell_type": "code",
      "metadata": {
        "id": "c_DAoDFnvMEm",
        "colab_type": "code",
        "colab": {}
      },
      "source": [
        "from sklearn.model_selection import train_test_split\n",
        "\n",
        "X = df.headline\n",
        "y = df.label\n",
        "\n",
        "X_train, X_test, y_train, y_test = train_test_split(X, y, test_size=0.2)"
      ],
      "execution_count": 0,
      "outputs": []
    },
    {
      "cell_type": "code",
      "metadata": {
        "id": "lHQxyCvJv61f",
        "colab_type": "code",
        "colab": {}
      },
      "source": [
        "from sklearn.feature_extraction.text import CountVectorizer\n",
        "\n",
        "vect = CountVectorizer(max_features=1000, binary=True)\n",
        "\n",
        "X_train_vect = vect.fit_transform(X_train)"
      ],
      "execution_count": 0,
      "outputs": []
    },
    {
      "cell_type": "code",
      "metadata": {
        "id": "nGDJY_iSwHmq",
        "colab_type": "code",
        "colab": {
          "base_uri": "https://localhost:8080/",
          "height": 99
        },
        "outputId": "20796f4d-cb4c-4569-eb3e-515246d23434"
      },
      "source": [
        "counts = df.label.value_counts()\n",
        "print(counts)\n",
        "\n",
        "print(\"\\nPredicting only -1 = {:.2f}% accuracy\".format(counts[-1] / sum(counts) * 100))"
      ],
      "execution_count": 54,
      "outputs": [
        {
          "output_type": "stream",
          "text": [
            "-1    686\n",
            " 1    360\n",
            "Name: label, dtype: int64\n",
            "\n",
            "Predicting only -1 = 65.58% accuracy\n"
          ],
          "name": "stdout"
        }
      ]
    },
    {
      "cell_type": "code",
      "metadata": {
        "id": "6cJEgjUjwVqe",
        "colab_type": "code",
        "colab": {}
      },
      "source": [
        "#making equal samples of -1 and +1 by oversampliting with the help of SMOTE\n",
        "from imblearn.over_sampling import SMOTE\n",
        "\n",
        "sm = SMOTE()\n",
        "\n",
        "X_train_res, y_train_res = sm.fit_sample(X_train_vect, y_train)"
      ],
      "execution_count": 0,
      "outputs": []
    },
    {
      "cell_type": "code",
      "metadata": {
        "id": "ebd142T4wlGm",
        "colab_type": "code",
        "colab": {
          "base_uri": "https://localhost:8080/",
          "height": 33
        },
        "outputId": "8e67a3dd-ba8a-4168-9b69-48490ad28d85"
      },
      "source": [
        "unique, counts = np.unique(y_train_res, return_counts=True)\n",
        "print(list(zip(unique, counts)))"
      ],
      "execution_count": 56,
      "outputs": [
        {
          "output_type": "stream",
          "text": [
            "[(-1, 551), (1, 551)]\n"
          ],
          "name": "stdout"
        }
      ]
    },
    {
      "cell_type": "markdown",
      "metadata": {
        "id": "NSPK132uwqd2",
        "colab_type": "text"
      },
      "source": [
        "# NAIVE BAYES"
      ]
    },
    {
      "cell_type": "code",
      "metadata": {
        "id": "iVSYFlRFwt8l",
        "colab_type": "code",
        "colab": {
          "base_uri": "https://localhost:8080/",
          "height": 33
        },
        "outputId": "46b37d61-a0b7-4ccb-83ff-485f539a090c"
      },
      "source": [
        "from sklearn.naive_bayes import MultinomialNB\n",
        "\n",
        "nb = MultinomialNB()\n",
        "\n",
        "nb.fit(X_train_res, y_train_res)\n",
        "\n",
        "nb.score(X_train_res, y_train_res)"
      ],
      "execution_count": 45,
      "outputs": [
        {
          "output_type": "execute_result",
          "data": {
            "text/plain": [
              "0.862453531598513"
            ]
          },
          "metadata": {
            "tags": []
          },
          "execution_count": 45
        }
      ]
    },
    {
      "cell_type": "code",
      "metadata": {
        "id": "v73kdwbexPSm",
        "colab_type": "code",
        "colab": {}
      },
      "source": [
        "X_test_vect = vect.transform(X_test)\n",
        "\n",
        "y_pred = nb.predict(X_test_vect)\n",
        "\n",
        "y_pred"
      ],
      "execution_count": 0,
      "outputs": []
    },
    {
      "cell_type": "code",
      "metadata": {
        "id": "-A2jad8fxdN0",
        "colab_type": "code",
        "colab": {
          "base_uri": "https://localhost:8080/",
          "height": 133
        },
        "outputId": "fd9a9bf6-2df7-4d1b-8210-b4f14e2e9ce8"
      },
      "source": [
        "#f1 score calculated from harmonic mean with the help of confusion matrix\n",
        "# it gives more analytic power than just accuracy\n",
        "from sklearn.metrics import accuracy_score, f1_score, confusion_matrix\n",
        "\n",
        "print(\"Accuracy: {:.2f}%\".format(accuracy_score(y_test, y_pred) * 100))\n",
        "print(\"\\nF1 Score: {:.2f}\".format(f1_score(y_test, y_pred) * 100))\n",
        "print(\"\\nCOnfusion Matrix:\\n\", confusion_matrix(y_test, y_pred))"
      ],
      "execution_count": 47,
      "outputs": [
        {
          "output_type": "stream",
          "text": [
            "Accuracy: 78.10%\n",
            "\n",
            "F1 Score: 65.15\n",
            "\n",
            "COnfusion Matrix:\n",
            " [[121  27]\n",
            " [ 19  43]]\n"
          ],
          "name": "stdout"
        }
      ]
    },
    {
      "cell_type": "markdown",
      "metadata": {
        "id": "QMWbfuXnx2Am",
        "colab_type": "text"
      },
      "source": [
        "# Cross Validation"
      ]
    },
    {
      "cell_type": "code",
      "metadata": {
        "id": "ZVDXCBmlx53m",
        "colab_type": "code",
        "colab": {
          "base_uri": "https://localhost:8080/",
          "height": 227
        },
        "outputId": "9713c1ef-f92a-4ada-d9be-a4871ae2aa27"
      },
      "source": [
        "#K-fold cross validation\n",
        "#Monte carlo validation\n",
        "from sklearn.model_selection import ShuffleSplit\n",
        "\n",
        "X = df.headline\n",
        "y = df.label\n",
        "\n",
        "ss = ShuffleSplit(n_splits=10, test_size=0.2)\n",
        "sm = SMOTE()\n",
        "\n",
        "accs = []\n",
        "f1s = []\n",
        "cms = []\n",
        "\n",
        "for train_index, test_index in ss.split(X):\n",
        "  \n",
        "    X_train, X_test = X.iloc[train_index], X.iloc[test_index]\n",
        "    y_train, y_test = y.iloc[train_index], y.iloc[test_index]\n",
        "  \n",
        "  # Fit vectorizer and transform X train, then transform X test\n",
        "    X_train_vect = vect.fit_transform(X_train)\n",
        "    X_test_vect = vect.transform(X_test)\n",
        "    \n",
        "  # Oversample\n",
        "    X_train_res, y_train_res = sm.fit_sample(X_train_vect, y_train)\n",
        "  \n",
        "  # Fit Naive Bayes on the vectorized X with y train labels, \n",
        "  # then predict new y labels using X test\n",
        "    nb.fit(X_train_res, y_train_res)\n",
        "    y_pred = nb.predict(X_test_vect)\n",
        "    \n",
        "  # Determine test set accuracy and f1 score on this fold using the true y labels and predicted y labels\n",
        "    accs.append(accuracy_score(y_test, y_pred))\n",
        "    f1s.append(f1_score(y_test, y_pred))\n",
        "    cms.append(confusion_matrix(y_test, y_pred))\n",
        "    \n",
        "print(\"\\nAverage accuracy across folds: {:.2f}%\".format(sum(accs) / len(accs) * 100))\n",
        "print(\"\\nAverage F1 score across folds: {:.2f}%\".format(sum(f1s) / len(f1s) * 100))\n",
        "print(\"\\nAverage Confusion Matrix across folds: \\n {}\".format(sum(cms) / len(cms)))"
      ],
      "execution_count": 19,
      "outputs": [
        {
          "output_type": "error",
          "ename": "NameError",
          "evalue": "ignored",
          "traceback": [
            "\u001b[0;31m---------------------------------------------------------------------------\u001b[0m",
            "\u001b[0;31mNameError\u001b[0m                                 Traceback (most recent call last)",
            "\u001b[0;32m<ipython-input-19-d9b95daf5b9d>\u001b[0m in \u001b[0;36m<module>\u001b[0;34m()\u001b[0m\n\u001b[1;32m      5\u001b[0m \u001b[0;34m\u001b[0m\u001b[0m\n\u001b[1;32m      6\u001b[0m \u001b[0mss\u001b[0m \u001b[0;34m=\u001b[0m \u001b[0mShuffleSplit\u001b[0m\u001b[0;34m(\u001b[0m\u001b[0mn_splits\u001b[0m\u001b[0;34m=\u001b[0m\u001b[0;36m10\u001b[0m\u001b[0;34m,\u001b[0m \u001b[0mtest_size\u001b[0m\u001b[0;34m=\u001b[0m\u001b[0;36m0.2\u001b[0m\u001b[0;34m)\u001b[0m\u001b[0;34m\u001b[0m\u001b[0;34m\u001b[0m\u001b[0m\n\u001b[0;32m----> 7\u001b[0;31m \u001b[0msm\u001b[0m \u001b[0;34m=\u001b[0m \u001b[0mSMOTE\u001b[0m\u001b[0;34m(\u001b[0m\u001b[0;34m)\u001b[0m\u001b[0;34m\u001b[0m\u001b[0;34m\u001b[0m\u001b[0m\n\u001b[0m\u001b[1;32m      8\u001b[0m \u001b[0;34m\u001b[0m\u001b[0m\n\u001b[1;32m      9\u001b[0m \u001b[0maccs\u001b[0m \u001b[0;34m=\u001b[0m \u001b[0;34m[\u001b[0m\u001b[0;34m]\u001b[0m\u001b[0;34m\u001b[0m\u001b[0;34m\u001b[0m\u001b[0m\n",
            "\u001b[0;31mNameError\u001b[0m: name 'SMOTE' is not defined"
          ]
        }
      ]
    },
    {
      "cell_type": "markdown",
      "metadata": {
        "id": "B66u6wwk1Dbg",
        "colab_type": "text"
      },
      "source": [
        "# Plotting"
      ]
    },
    {
      "cell_type": "code",
      "metadata": {
        "id": "4iLqYbmZ1AJb",
        "colab_type": "code",
        "colab": {
          "base_uri": "https://localhost:8080/",
          "height": 580
        },
        "outputId": "d67f12ae-8afb-458a-c28a-6f149b06eea1"
      },
      "source": [
        "fig, (ax1, ax2) = plt.subplots(2, 1, sharex=True, figsize=(16,9))\n",
        "\n",
        "acc_scores = [round(a * 100, 1) for a in accs]\n",
        "f1_scores = [round(f * 100, 2) for f in f1s]\n",
        "\n",
        "x1 = np.arange(len(acc_scores))\n",
        "x2 = np.arange(len(f1_scores))\n",
        "\n",
        "ax1.bar(x1, acc_scores)\n",
        "ax2.bar(x2, f1_scores, color='#559ebf')\n",
        "\n",
        "# Place values on top of bars\n",
        "for i, v in enumerate(list(zip(acc_scores, f1_scores))):\n",
        "    ax1.text(i - 0.25, v[0] + 2, str(v[0]) + '%')\n",
        "    ax2.text(i - 0.25, v[1] + 2, str(v[1]))\n",
        "\n",
        "ax1.set_ylabel('Accuracy (%)')\n",
        "ax1.set_title('Naive Bayes')\n",
        "ax1.set_ylim([0, 100])\n",
        "\n",
        "ax2.set_ylabel('F1 Score')\n",
        "ax2.set_xlabel('Runs')\n",
        "ax2.set_ylim([0, 100])\n",
        "\n",
        "sns.despine(bottom=True, left=True)  # Remove the ticks on axes for cleaner presentation\n",
        "\n",
        "plt.show()"
      ],
      "execution_count": 100,
      "outputs": [
        {
          "output_type": "display_data",
          "data": {
            "image/png": "[encoded data removed]",
            "text/plain": [
              "<Figure size 1152x648 with 2 Axes>"
            ]
          },
          "metadata": {
            "tags": []
          }
        }
      ]
    },
    {
      "cell_type": "markdown",
      "metadata": {
        "id": "hXkKEEZ51jz1",
        "colab_type": "text"
      },
      "source": [
        "# Other Classification Algorithm in Scikit-learn"
      ]
    },
    {
      "cell_type": "code",
      "metadata": {
        "id": "Rd8Z49gv1qjE",
        "colab_type": "code",
        "colab": {}
      },
      "source": [
        "from sklearn.naive_bayes import BernoulliNB\n",
        "from sklearn.naive_bayes import MultinomialNB\n",
        "from sklearn.linear_model import LogisticRegression, SGDClassifier\n",
        "from sklearn.svm import LinearSVC\n",
        "from sklearn.ensemble import RandomForestClassifier\n",
        "from sklearn.neural_network import MLPClassifier\n",
        "\n",
        "\n",
        "from sklearn.model_selection import ShuffleSplit\n",
        "from imblearn.over_sampling import SMOTE\n",
        "from sklearn.feature_extraction.text import CountVectorizer\n",
        "from sklearn.metrics import accuracy_score, f1_score, confusion_matrix\n",
        "\n",
        "vect = CountVectorizer(max_features=1000, binary=True)\n",
        "\n",
        "X = df.headline\n",
        "y = df.label\n",
        "\n",
        "cv = ShuffleSplit(n_splits=20, test_size=0.2)\n",
        "\n",
        "models = [\n",
        "    MultinomialNB(),\n",
        "    BernoulliNB(),\n",
        "    LogisticRegression(),\n",
        "    SGDClassifier(),\n",
        "    LinearSVC(),\n",
        "    RandomForestClassifier(),\n",
        "    MLPClassifier()\n",
        "]\n",
        "\n",
        "sm=SMOTE()\n",
        "\n",
        "results = {\n",
        "    model.__class__.__name__: {\n",
        "        'accuracy': [], \n",
        "        'f1_score': [],\n",
        "        'confusion_matrix': []\n",
        "    } for model in models\n",
        "}\n",
        "\n",
        "for train_index, test_index in cv.split(X): \n",
        "    X_train ,X_test = X.iloc[train_index], X.iloc[test_index]\n",
        "    y_train, y_test = y.iloc[train_index], y.iloc[test_index]\n",
        "   \n",
        "    #vectorization\n",
        "    X_train_vect = vect.fit_transform(X_train)\n",
        "    X_test_vect = vect.transform(X_test)\n",
        "  \n",
        "    #problem of oversampling\n",
        "    X_train_res, y_train_res = sm.fit_sample(X_train_vect, y_train)\n",
        "  \n",
        "    for model in models:\n",
        "        model.fit(X_train_res, y_train_res)\n",
        "        y_pred = model.predict(X_test_vect)\n",
        "        \n",
        "        acc = accuracy_score(y_test, y_pred)\n",
        "        f1 = f1_score(y_test, y_pred)\n",
        "        cm = confusion_matrix(y_test, y_pred)\n",
        "        \n",
        "        results[model.__class__.__name__]['accuracy'].append(acc)\n",
        "        results[model.__class__.__name__]['f1_score'].append(f1)\n",
        "        results[model.__class__.__name__]['confusion_matrix'].append(cm)"
      ],
      "execution_count": 0,
      "outputs": []
    },
    {
      "cell_type": "code",
      "metadata": {
        "id": "BERd51tXhmS1",
        "colab_type": "code",
        "colab": {
          "base_uri": "https://localhost:8080/",
          "height": 1061
        },
        "outputId": "1841173a-9477-4ee4-e85b-0bfff150ede5"
      },
      "source": [
        "for model,d in results.items():\n",
        "  avg_acc = sum(d['accuracy'])/len(d['accuracy'])*100\n",
        "  avg_f1 = sum(d['f1_score'])/len(d['f1_score'])*100\n",
        "  avg_cm = sum(d['confusion_matrix'])/len(d['confusion_matrix'])\n",
        "  \n",
        "  slashes = '-'*30\n",
        "  \n",
        "  s = f\"\"\"{model}\\n{slashes}\n",
        "      average_accuaracy : {avg_acc:.2f}%\n",
        "      average_f1_score : {avg_f1:.2f}\n",
        "      average_consusion_matrix : \n",
        "      \\n{avg_cm}\n",
        "      \"\"\"\n",
        "  print(s)"
      ],
      "execution_count": 74,
      "outputs": [
        {
          "output_type": "stream",
          "text": [
            "MultinomialNB\n",
            "------------------------------\n",
            "      average_accuaracy : 73.43%\n",
            "      average_f1_score : 63.23\n",
            "      average_consusion_matrix : \n",
            "      \n",
            "[[106.05  34.  ]\n",
            " [ 21.8   48.15]]\n",
            "      \n",
            "BernoulliNB\n",
            "------------------------------\n",
            "      average_accuaracy : 68.21%\n",
            "      average_f1_score : 61.25\n",
            "      average_consusion_matrix : \n",
            "      \n",
            "[[90.3  49.75]\n",
            " [17.   52.95]]\n",
            "      \n",
            "LogisticRegression\n",
            "------------------------------\n",
            "      average_accuaracy : 71.52%\n",
            "      average_f1_score : 61.34\n",
            "      average_consusion_matrix : \n",
            "      \n",
            "[[102.5   37.55]\n",
            " [ 22.25  47.7 ]]\n",
            "      \n",
            "SGDClassifier\n",
            "------------------------------\n",
            "      average_accuaracy : 69.86%\n",
            "      average_f1_score : 58.51\n",
            "      average_consusion_matrix : \n",
            "      \n",
            "[[101.75  38.3 ]\n",
            " [ 25.    44.95]]\n",
            "      \n",
            "LinearSVC\n",
            "------------------------------\n",
            "      average_accuaracy : 70.60%\n",
            "      average_f1_score : 59.98\n",
            "      average_consusion_matrix : \n",
            "      \n",
            "[[101.75  38.3 ]\n",
            " [ 23.45  46.5 ]]\n",
            "      \n",
            "RandomForestClassifier\n",
            "------------------------------\n",
            "      average_accuaracy : 68.02%\n",
            "      average_f1_score : 54.58\n",
            "      average_consusion_matrix : \n",
            "      \n",
            "[[102.1   37.95]\n",
            " [ 29.2   40.75]]\n",
            "      \n",
            "MLPClassifier\n",
            "------------------------------\n",
            "      average_accuaracy : 71.12%\n",
            "      average_f1_score : 59.90\n",
            "      average_consusion_matrix : \n",
            "      \n",
            "[[103.85  36.2 ]\n",
            " [ 24.45  45.5 ]]\n",
            "      \n"
          ],
          "name": "stdout"
        }
      ]
    },
    {
      "cell_type": "markdown",
      "metadata": {
        "id": "PqxqfUONzexj",
        "colab_type": "text"
      },
      "source": [
        "# Esembling Classifiers"
      ]
    },
    {
      "cell_type": "code",
      "metadata": {
        "id": "6rSOdkly0lli",
        "colab_type": "code",
        "colab": {}
      },
      "source": [
        "from sklearn.ensemble import VotingClassifier\n",
        "\n",
        "X = df.headline\n",
        "y = df.label\n",
        "\n",
        "cv = ShuffleSplit(n_splits=10, test_size = 0.2)\n",
        "\n",
        "models = [\n",
        "    MultinomialNB(),\n",
        "    BernoulliNB(),\n",
        "    LogisticRegression(),\n",
        "    SGDClassifier(),\n",
        "    LinearSVC(),\n",
        "    RandomForestClassifier(),\n",
        "    MLPClassifier()\n",
        "]\n",
        "\n",
        "#3 precious lines\n",
        "m_names = [m.__class__.__name__ for m in models]\n",
        "\n",
        "models = list(zip(m_names, models))\n",
        "vc = VotingClassifier(estimators=models)\n",
        "\n",
        "sm=SMOTE()\n",
        "\n",
        "# No need for dictionary now\n",
        "accs = []\n",
        "f1s = []\n",
        "cms = []\n",
        "\n",
        "for train_index, test_index in cv.split(X):\n",
        "  X_train,X_test = X.iloc[train_index],X.iloc[test_index]\n",
        "  y_train,y_test = y.iloc[train_index],y.iloc[test_index]\n",
        "  \n",
        "  #vectorize\n",
        "  X_train_vect = vect.fit_transform(X_train)\n",
        "  X_test_vect = vect.transform(X_test)\n",
        "  \n",
        "  #oversampling problem\n",
        "  X_train_vect_res,y_train_vect_res = sm.fit_sample(X_train_vect,y_train)\n",
        "  \n",
        "  vc.fit(X_train_vect_res,y_train_vect_res)\n",
        "  \n",
        "  y_pred = vc.predict(X_test_vect)\n",
        "  \n",
        "  accs.append(accuracy_score(y_test,y_pred))\n",
        "  f1s.append(f1_score(y_test, y_pred))\n",
        "  cms.append(confusion_matrix(y_test, y_pred))\n"
      ],
      "execution_count": 0,
      "outputs": []
    },
    {
      "cell_type": "code",
      "metadata": {
        "id": "vlpImp2n5z0f",
        "colab_type": "code",
        "colab": {
          "base_uri": "https://localhost:8080/",
          "height": 133
        },
        "outputId": "c5e391d9-8469-4d7d-91e2-6347d6de9b80"
      },
      "source": [
        "print(\"Voting Classifier\")\n",
        "print(\"-\" * 30)\n",
        "print(\"Avg. Accuracy: {:.2f}%\".format(sum(accs) / len(accs) * 100))\n",
        "print(\"Avg. F1 Score: {:.2f}\".format(sum(f1s) / len(f1s) * 100))\n",
        "print(\"Confusion Matrix:\\n\", sum(cms) / len(cms))"
      ],
      "execution_count": 78,
      "outputs": [
        {
          "output_type": "stream",
          "text": [
            "Voting Classifier\n",
            "------------------------------\n",
            "Avg. Accuracy: 71.81%\n",
            "Avg. F1 Score: 60.57\n",
            "Confusion Matrix:\n",
            " [[105.   36.2]\n",
            " [ 23.   45.8]]\n"
          ],
          "name": "stdout"
        }
      ]
    }
  ]
}