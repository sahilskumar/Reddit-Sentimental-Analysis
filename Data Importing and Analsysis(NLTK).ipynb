{
  "nbformat": 4,
  "nbformat_minor": 0,
  "metadata": {
    "colab": {
      "name": "Reddit_Sentimental_Analysis_NLTK.ipynb",
      "version": "0.3.2",
      "provenance": [],
      "collapsed_sections": [],
      "include_colab_link": true
    },
    "kernelspec": {
      "name": "python3",
      "display_name": "Python 3"
    }
  },
  "cells": [
    {
      "cell_type": "markdown",
      "metadata": {
        "id": "view-in-github",
        "colab_type": "text"
      },
      "source": [
        "<a href=\"https://colab.research.google.com/github/sahilskumar/Reddit-Sentimental-Analysis/blob/master/Data%20Importing%20and%20Analsysis(NLTK).ipynb\" target=\"_parent\"><img src=\"https://colab.research.google.com/assets/colab-badge.svg\" alt=\"Open In Colab\"/></a>"
      ]
    },
    {
      "cell_type": "code",
      "metadata": {
        "id": "z1k4YMnzm0lo",
        "colab_type": "code",
        "colab": {}
      },
      "source": [
        "# iPython's display module, which will let us control the clearing of printed output inside loops\n",
        "from IPython import display\n",
        "import math\n",
        "\n",
        "import pandas as pd\n",
        "import numpy as np\n",
        "import seaborn as sns\n",
        "import matplotlib.pyplot as plt\n",
        "\n",
        "from pprint import pprint #pprint means pretty print JSON and lists\n",
        "\n",
        "import nltk\n",
        "sns.set(style='darkgrid', context='talk', palette='Dark2')\n",
        "\n",
        "#importing libraries\n",
        "!pip install praw\n",
        "nltk.download('vader_lexicon')"
      ],
      "execution_count": 0,
      "outputs": []
    },
    {
      "cell_type": "markdown",
      "metadata": {
        "id": "Oa6ShHMooGj5",
        "colab_type": "text"
      },
      "source": [
        "# REDDIT API VIA PRAW"
      ]
    },
    {
      "cell_type": "code",
      "metadata": {
        "id": "FeMYCzxIoKV7",
        "colab_type": "code",
        "outputId": "01286709-1449-4c53-aac6-d0c81e59db96",
        "colab": {
          "base_uri": "https://localhost:8080/",
          "height": 33
        }
      },
      "source": [
        "import praw\n",
        "reddit = praw.Reddit(client_id='FzDNWM5E_IghdQ',\n",
        "                     client_secret='pznQGFiCREh9hlAnwwIBRqhn4B0',\n",
        "                     user_agent='sahilkumar')\n",
        "headlines = set()\n",
        "for submission in reddit.subreddit('politics').new(limit=None):\n",
        "  #limit none means latest 1000 headlines\n",
        "  headlines.add(submission.title)\n",
        "  display.clear_output()\n",
        "  print(len(headlines))"
      ],
      "execution_count": 2,
      "outputs": [
        {
          "output_type": "stream",
          "text": [
            "963\n"
          ],
          "name": "stdout"
        }
      ]
    },
    {
      "cell_type": "code",
      "metadata": {
        "id": "nJGJH7P-vp6N",
        "colab_type": "code",
        "outputId": "63d54f38-5e2c-4e76-b67f-0f7ea38637f2",
        "colab": {
          "base_uri": "https://localhost:8080/",
          "height": 332
        }
      },
      "source": [
        "\n",
        "from nltk.sentiment.vader import SentimentIntensityAnalyzer as SIA\n",
        "sia = SIA()\n",
        "results = []\n",
        "\n",
        "for line in headlines:\n",
        "  pol_score = sia.polarity_scores(line)\n",
        "  pol_score['headline'] = line\n",
        "  results.append(pol_score)\n",
        "\n",
        "pprint(results[:3])"
      ],
      "execution_count": 3,
      "outputs": [
        {
          "output_type": "stream",
          "text": [
            "/usr/local/lib/python3.6/dist-packages/nltk/twitter/__init__.py:20: UserWarning: The twython library has not been installed. Some functionality from the twitter package will not be available.\n",
            "  warnings.warn(\"The twython library has not been installed. \"\n"
          ],
          "name": "stderr"
        },
        {
          "output_type": "stream",
          "text": [
            "[{'compound': 0.0,\n",
            "  'headline': 'Infecting People Isn’t a Religious Right',\n",
            "  'neg': 0.0,\n",
            "  'neu': 1.0,\n",
            "  'pos': 0.0},\n",
            " {'compound': 0.0,\n",
            "  'headline': \"Yup, that's Minnesota congressional candidate David Sandbeck's \"\n",
            "              'ad on PornHub',\n",
            "  'neg': 0.0,\n",
            "  'neu': 1.0,\n",
            "  'pos': 0.0},\n",
            " {'compound': -0.5106,\n",
            "  'headline': 'U.S. Says Signs Syria May Be Using Chemical Weapons, Warns of '\n",
            "              'Quick Response',\n",
            "  'neg': 0.281,\n",
            "  'neu': 0.719,\n",
            "  'pos': 0.0}]\n"
          ],
          "name": "stdout"
        }
      ]
    },
    {
      "cell_type": "code",
      "metadata": {
        "id": "Gd9bewKlyvoi",
        "colab_type": "code",
        "colab": {}
      },
      "source": [
        "df = pd.DataFrame.from_records(results)"
      ],
      "execution_count": 0,
      "outputs": []
    },
    {
      "cell_type": "code",
      "metadata": {
        "id": "XZVdXpBszD5D",
        "colab_type": "code",
        "outputId": "72e790e1-61df-45da-c827-3cdf9d02164d",
        "colab": {
          "base_uri": "https://localhost:8080/",
          "height": 170
        }
      },
      "source": [
        "df.head(4) #compound show the sentiment value (-1(extremely negative) to +1(extremly positive))"
      ],
      "execution_count": 5,
      "outputs": [
        {
          "output_type": "execute_result",
          "data": {
            "text/html": [
              "<div>\n",
              "<style scoped>\n",
              "    .dataframe tbody tr th:only-of-type {\n",
              "        vertical-align: middle;\n",
              "    }\n",
              "\n",
              "    .dataframe tbody tr th {\n",
              "        vertical-align: top;\n",
              "    }\n",
              "\n",
              "    .dataframe thead th {\n",
              "        text-align: right;\n",
              "    }\n",
              "</style>\n",
              "<table border=\"1\" class=\"dataframe\">\n",
              "  <thead>\n",
              "    <tr style=\"text-align: right;\">\n",
              "      <th></th>\n",
              "      <th>compound</th>\n",
              "      <th>headline</th>\n",
              "      <th>neg</th>\n",
              "      <th>neu</th>\n",
              "      <th>pos</th>\n",
              "    </tr>\n",
              "  </thead>\n",
              "  <tbody>\n",
              "    <tr>\n",
              "      <th>0</th>\n",
              "      <td>0.0000</td>\n",
              "      <td>Infecting People Isn’t a Religious Right</td>\n",
              "      <td>0.000</td>\n",
              "      <td>1.000</td>\n",
              "      <td>0.0</td>\n",
              "    </tr>\n",
              "    <tr>\n",
              "      <th>1</th>\n",
              "      <td>0.0000</td>\n",
              "      <td>Yup, that's Minnesota congressional candidate ...</td>\n",
              "      <td>0.000</td>\n",
              "      <td>1.000</td>\n",
              "      <td>0.0</td>\n",
              "    </tr>\n",
              "    <tr>\n",
              "      <th>2</th>\n",
              "      <td>-0.5106</td>\n",
              "      <td>U.S. Says Signs Syria May Be Using Chemical We...</td>\n",
              "      <td>0.281</td>\n",
              "      <td>0.719</td>\n",
              "      <td>0.0</td>\n",
              "    </tr>\n",
              "    <tr>\n",
              "      <th>3</th>\n",
              "      <td>-0.1280</td>\n",
              "      <td>Bernie Sanders to demand Walmart workers get a...</td>\n",
              "      <td>0.111</td>\n",
              "      <td>0.889</td>\n",
              "      <td>0.0</td>\n",
              "    </tr>\n",
              "  </tbody>\n",
              "</table>\n",
              "</div>"
            ],
            "text/plain": [
              "   compound                                           headline  ...    neu  pos\n",
              "0    0.0000           Infecting People Isn’t a Religious Right  ...  1.000  0.0\n",
              "1    0.0000  Yup, that's Minnesota congressional candidate ...  ...  1.000  0.0\n",
              "2   -0.5106  U.S. Says Signs Syria May Be Using Chemical We...  ...  0.719  0.0\n",
              "3   -0.1280  Bernie Sanders to demand Walmart workers get a...  ...  0.889  0.0\n",
              "\n",
              "[4 rows x 5 columns]"
            ]
          },
          "metadata": {
            "tags": []
          },
          "execution_count": 5
        }
      ]
    },
    {
      "cell_type": "code",
      "metadata": {
        "id": "eU89rSxpzbVK",
        "colab_type": "code",
        "outputId": "5dde0de7-46d2-4330-cf69-fc4218d3cebc",
        "colab": {
          "base_uri": "https://localhost:8080/",
          "height": 201
        }
      },
      "source": [
        "df['label'] = 0\n",
        "df.loc[df['compound'] > 0.2, 'label'] = 1\n",
        "df.loc[df['compound'] < -0.2 , 'label'] = -1\n",
        "df.head()"
      ],
      "execution_count": 6,
      "outputs": [
        {
          "output_type": "execute_result",
          "data": {
            "text/html": [
              "<div>\n",
              "<style scoped>\n",
              "    .dataframe tbody tr th:only-of-type {\n",
              "        vertical-align: middle;\n",
              "    }\n",
              "\n",
              "    .dataframe tbody tr th {\n",
              "        vertical-align: top;\n",
              "    }\n",
              "\n",
              "    .dataframe thead th {\n",
              "        text-align: right;\n",
              "    }\n",
              "</style>\n",
              "<table border=\"1\" class=\"dataframe\">\n",
              "  <thead>\n",
              "    <tr style=\"text-align: right;\">\n",
              "      <th></th>\n",
              "      <th>compound</th>\n",
              "      <th>headline</th>\n",
              "      <th>neg</th>\n",
              "      <th>neu</th>\n",
              "      <th>pos</th>\n",
              "      <th>label</th>\n",
              "    </tr>\n",
              "  </thead>\n",
              "  <tbody>\n",
              "    <tr>\n",
              "      <th>0</th>\n",
              "      <td>0.0000</td>\n",
              "      <td>Infecting People Isn’t a Religious Right</td>\n",
              "      <td>0.000</td>\n",
              "      <td>1.000</td>\n",
              "      <td>0.0</td>\n",
              "      <td>0</td>\n",
              "    </tr>\n",
              "    <tr>\n",
              "      <th>1</th>\n",
              "      <td>0.0000</td>\n",
              "      <td>Yup, that's Minnesota congressional candidate ...</td>\n",
              "      <td>0.000</td>\n",
              "      <td>1.000</td>\n",
              "      <td>0.0</td>\n",
              "      <td>0</td>\n",
              "    </tr>\n",
              "    <tr>\n",
              "      <th>2</th>\n",
              "      <td>-0.5106</td>\n",
              "      <td>U.S. Says Signs Syria May Be Using Chemical We...</td>\n",
              "      <td>0.281</td>\n",
              "      <td>0.719</td>\n",
              "      <td>0.0</td>\n",
              "      <td>-1</td>\n",
              "    </tr>\n",
              "    <tr>\n",
              "      <th>3</th>\n",
              "      <td>-0.1280</td>\n",
              "      <td>Bernie Sanders to demand Walmart workers get a...</td>\n",
              "      <td>0.111</td>\n",
              "      <td>0.889</td>\n",
              "      <td>0.0</td>\n",
              "      <td>0</td>\n",
              "    </tr>\n",
              "    <tr>\n",
              "      <th>4</th>\n",
              "      <td>-0.7430</td>\n",
              "      <td>Justin Amash calls Trump 'irresponsible' after...</td>\n",
              "      <td>0.387</td>\n",
              "      <td>0.613</td>\n",
              "      <td>0.0</td>\n",
              "      <td>-1</td>\n",
              "    </tr>\n",
              "  </tbody>\n",
              "</table>\n",
              "</div>"
            ],
            "text/plain": [
              "   compound                                           headline  ...  pos  label\n",
              "0    0.0000           Infecting People Isn’t a Religious Right  ...  0.0      0\n",
              "1    0.0000  Yup, that's Minnesota congressional candidate ...  ...  0.0      0\n",
              "2   -0.5106  U.S. Says Signs Syria May Be Using Chemical We...  ...  0.0     -1\n",
              "3   -0.1280  Bernie Sanders to demand Walmart workers get a...  ...  0.0      0\n",
              "4   -0.7430  Justin Amash calls Trump 'irresponsible' after...  ...  0.0     -1\n",
              "\n",
              "[5 rows x 6 columns]"
            ]
          },
          "metadata": {
            "tags": []
          },
          "execution_count": 6
        }
      ]
    },
    {
      "cell_type": "code",
      "metadata": {
        "id": "jXCNBYKH01jd",
        "colab_type": "code",
        "colab": {}
      },
      "source": [
        "df2 = df[['headline','label']]\n",
        "df2.to_csv('reddit_headlines_labels_2', mode='a' ,encoding = 'utf-8', index=False)"
      ],
      "execution_count": 0,
      "outputs": []
    },
    {
      "cell_type": "markdown",
      "metadata": {
        "id": "HxrWU3-n1oxQ",
        "colab_type": "text"
      },
      "source": [
        "# Dataset info and statistics"
      ]
    },
    {
      "cell_type": "code",
      "metadata": {
        "id": "m9BNql331sJU",
        "colab_type": "code",
        "outputId": "1c2a2b02-58a4-4562-f752-d6da3eb65062",
        "colab": {
          "base_uri": "https://localhost:8080/",
          "height": 265
        }
      },
      "source": [
        "print(\"Positive headlines:\\n\")\n",
        "pprint(list(df[df['label'] == 1].headline)[:5], width=200)\n",
        "\n",
        "print(\"\\nNegative headlines:\\n\")\n",
        "pprint(list(df[df['label'] == -1].headline)[:5], width=200)"
      ],
      "execution_count": 0,
      "outputs": [
        {
          "output_type": "stream",
          "text": [
            "Positive headlines:\n",
            "\n",
            "['Trump is expected to tap Ken Cuccinelli for top DHS role on immigration',\n",
            " 'As Suicides Rise, Insurers Find Ways to Deny Mental Health Care',\n",
            " 'The great Fox News debate consuming Democrats: The choice of whether to appear on the network illustrates deeper strategic divides in the Democratic presidential primary.',\n",
            " \"Good Feelings On Economy Don't Help Trump, Quinnipiac University National Poll Finds; Biden Is Only Contender With Positive Score\",\n",
            " 'U.S. Supreme Court sides with Native American elk hunter']\n",
            "\n",
            "Negative headlines:\n",
            "\n",
            "['Nadler: We’ll Hold McGahn in Contempt if He Skips Congressional Testimony',\n",
            " \"Kamala Harris hits Biden over 'mass incarceration' from crime bill\",\n",
            " 'Trump is planning a cruel twist in border policy: Family detention -- it’s no better than family separation.',\n",
            " 'Bill to Ban Circus Animal Suffering Set for Introduction in US Congress',\n",
            " 'AP FACT CHECK: Trump cries ‘treason’ over campaign scrutiny']\n"
          ],
          "name": "stdout"
        }
      ]
    },
    {
      "cell_type": "code",
      "metadata": {
        "id": "aGiQaRMH2Tzr",
        "colab_type": "code",
        "outputId": "bb05669c-3963-410d-9cc4-ea05e9aa51f0",
        "colab": {
          "base_uri": "https://localhost:8080/",
          "height": 149
        }
      },
      "source": [
        "print(df.label.value_counts())\n",
        "print(df.label.value_counts(normalize=True)*100) #shows percentage"
      ],
      "execution_count": 0,
      "outputs": [
        {
          "output_type": "stream",
          "text": [
            " 0    433\n",
            "-1    339\n",
            " 1    180\n",
            "Name: label, dtype: int64\n",
            " 0    45.483193\n",
            "-1    35.609244\n",
            " 1    18.907563\n",
            "Name: label, dtype: float64\n"
          ],
          "name": "stdout"
        }
      ]
    },
    {
      "cell_type": "code",
      "metadata": {
        "id": "twxTz-QE24bq",
        "colab_type": "code",
        "outputId": "c7d8c767-e603-4243-cbf9-43ddcc6ef160",
        "colab": {
          "base_uri": "https://localhost:8080/",
          "height": 504
        }
      },
      "source": [
        "fig,ax = plt.subplots(figsize=(8,8));\n",
        "\n",
        "counts = df.label.value_counts(normalize=True)*100\n",
        "\n",
        "sns.barplot(x=counts.index, y=counts, ax=ax);\n",
        "ax.set_ylabel('Percentage');\n",
        "ax.set_xticklabels(['Negative','Neutral','Positive'])\n",
        "plt.show()"
      ],
      "execution_count": 0,
      "outputs": [
        {
          "output_type": "display_data",
          "data": {
            "image/png": "[encoded data removed]",
            "text/plain": [
              "<Figure size 576x576 with 1 Axes>"
            ]
          },
          "metadata": {
            "tags": []
          }
        }
      ]
    },
    {
      "cell_type": "markdown",
      "metadata": {
        "id": "QXYS-TQ46d5R",
        "colab_type": "text"
      },
      "source": [
        "# Tokenizer and StopWords(Data Preprocessing)"
      ]
    },
    {
      "cell_type": "code",
      "metadata": {
        "id": "WPfFsZ756dHD",
        "colab_type": "code",
        "outputId": "77d036cc-2ad2-498c-cf44-9882cc58092d",
        "colab": {
          "base_uri": "https://localhost:8080/",
          "height": 282
        }
      },
      "source": [
        "nltk.download('punkt')\n",
        "from nltk.tokenize import word_tokenize,RegexpTokenizer\n",
        "example = \"This is an example sentence! However, it isn't a very informative one\"\n",
        "\n",
        "print(word_tokenize(example, language='english'))\n",
        "\n",
        "tokenizer = RegexpTokenizer(r'\\w+') #does not contain punctuation only consider workds\n",
        "tokenizer.tokenize(example)"
      ],
      "execution_count": 0,
      "outputs": [
        {
          "output_type": "stream",
          "text": [
            "[nltk_data] Downloading package punkt to /root/nltk_data...\n",
            "[nltk_data]   Package punkt is already up-to-date!\n",
            "['This', 'is', 'an', 'example', 'sentence', '!', 'However', ',', 'it', 'is', \"n't\", 'a', 'very', 'informative', 'one']\n"
          ],
          "name": "stdout"
        },
        {
          "output_type": "execute_result",
          "data": {
            "text/plain": [
              "['This',\n",
              " 'is',\n",
              " 'an',\n",
              " 'example',\n",
              " 'sentence',\n",
              " 'However',\n",
              " 'it',\n",
              " 'isn',\n",
              " 't',\n",
              " 'a',\n",
              " 'very',\n",
              " 'informative',\n",
              " 'one']"
            ]
          },
          "metadata": {
            "tags": []
          },
          "execution_count": 86
        }
      ]
    },
    {
      "cell_type": "code",
      "metadata": {
        "id": "o-70Hh5H5Myk",
        "colab_type": "code",
        "outputId": "a19d3be5-c5e4-4ce9-a98c-22ca900eecd3",
        "colab": {
          "base_uri": "https://localhost:8080/",
          "height": 66
        }
      },
      "source": [
        "#removing stopwords like ’the, ’is’, ’and’, ’what’, etc. that are irrelevant to sentiment and dont provide any valuable information\n",
        "nltk.download('stopwords')\n",
        "from nltk.corpus import stopwords\n",
        "stop_words = stopwords.words('english')\n",
        "print(stop_words[:20])"
      ],
      "execution_count": 0,
      "outputs": [
        {
          "output_type": "stream",
          "text": [
            "[nltk_data] Downloading package stopwords to /root/nltk_data...\n",
            "[nltk_data]   Package stopwords is already up-to-date!\n",
            "['i', 'me', 'my', 'myself', 'we', 'our', 'ours', 'ourselves', 'you', \"you're\", \"you've\", \"you'll\", \"you'd\", 'your', 'yours', 'yourself', 'yourselves', 'he', 'him', 'his']\n"
          ],
          "name": "stdout"
        }
      ]
    },
    {
      "cell_type": "code",
      "metadata": {
        "id": "663N79id9joJ",
        "colab_type": "code",
        "colab": {}
      },
      "source": [
        "#Word Distribution\n",
        "def process_text(headlines):\n",
        "  tokens = []\n",
        "  for line in headlines:\n",
        "    token = tokenizer.tokenize(line)\n",
        "    token = [t.lower() for t in token if t.lower() not in stop_words]\n",
        "    tokens.extend(token)\n",
        "  return tokens\n",
        "    "
      ],
      "execution_count": 0,
      "outputs": []
    },
    {
      "cell_type": "code",
      "metadata": {
        "id": "f7nsl-elCdZG",
        "colab_type": "code",
        "outputId": "b1cec359-6acd-40dd-d38d-613e7543bde7",
        "colab": {
          "base_uri": "https://localhost:8080/",
          "height": 348
        }
      },
      "source": [
        "pos_lines = list(df[df.label == 1].headline)\n",
        "\n",
        "pos_tokens = process_text(pos_lines)\n",
        "pos_freq = nltk.FreqDist(pos_tokens)\n",
        "\n",
        "pos_freq.most_common(20)"
      ],
      "execution_count": 0,
      "outputs": [
        {
          "output_type": "execute_result",
          "data": {
            "text/plain": [
              "[('trump', 74),\n",
              " ('house', 16),\n",
              " ('2020', 14),\n",
              " ('u', 12),\n",
              " ('court', 12),\n",
              " ('says', 11),\n",
              " ('fox', 10),\n",
              " ('supreme', 10),\n",
              " ('iran', 10),\n",
              " ('democrats', 9),\n",
              " ('democratic', 9),\n",
              " ('american', 9),\n",
              " ('president', 9),\n",
              " ('biden', 8),\n",
              " ('bill', 8),\n",
              " ('abortion', 8),\n",
              " ('white', 8),\n",
              " ('would', 8),\n",
              " ('buttigieg', 8),\n",
              " ('like', 8)]"
            ]
          },
          "metadata": {
            "tags": []
          },
          "execution_count": 95
        }
      ]
    },
    {
      "cell_type": "code",
      "metadata": {
        "id": "TG0zhUyuC90C",
        "colab_type": "code",
        "outputId": "71a0b16f-9bc5-4c7a-ac79-e30daefaf8cd",
        "colab": {
          "base_uri": "https://localhost:8080/",
          "height": 374
        }
      },
      "source": [
        "y_val = [x[1] for x in pos_freq.most_common()]\n",
        "\n",
        "fig = plt.figure(figsize=(10,5))\n",
        "plt.plot(y_val)\n",
        "\n",
        "plt.xlabel(\"Words\")\n",
        "plt.ylabel(\"Frequency\")\n",
        "plt.title(\"Word Frequency Distribution (Positive)\")\n",
        "plt.show()"
      ],
      "execution_count": 0,
      "outputs": [
        {
          "output_type": "display_data",
          "data": {
            "image/png": "[encoded data removed]",
            "text/plain": [
              "<Figure size 720x360 with 1 Axes>"
            ]
          },
          "metadata": {
            "tags": []
          }
        }
      ]
    },
    {
      "cell_type": "code",
      "metadata": {
        "id": "9YEoIDSZC_-s",
        "colab_type": "code",
        "outputId": "ac2f4221-bdef-4dae-bdf4-e4356c2f2b79",
        "colab": {
          "base_uri": "https://localhost:8080/",
          "height": 374
        }
      },
      "source": [
        "y_final = []\n",
        "for i, k, z, t in zip(y_val[0::4], y_val[1::4], y_val[2::4], y_val[3::4]):\n",
        "    y_final.append(math.log(i + k + z + t))\n",
        "\n",
        "x_val = [math.log(i + 1) for i in range(len(y_final))]\n",
        "\n",
        "fig = plt.figure(figsize=(10,5))\n",
        "\n",
        "plt.xlabel(\"Words (Log)\")\n",
        "plt.ylabel(\"Frequency (Log)\")\n",
        "plt.title(\"Word Frequency Distribution (Positive)\")\n",
        "plt.plot(x_val, y_final)\n",
        "plt.show()"
      ],
      "execution_count": 0,
      "outputs": [
        {
          "output_type": "display_data",
          "data": {
            "image/png": "[encoded data removed]",
            "text/plain": [
              "<Figure size 720x360 with 1 Axes>"
            ]
          },
          "metadata": {
            "tags": []
          }
        }
      ]
    },
    {
      "cell_type": "code",
      "metadata": {
        "id": "hW0ju9gJHDHs",
        "colab_type": "code",
        "outputId": "8d36f1aa-b7de-4b9a-d31c-2525a5ec458c",
        "colab": {
          "base_uri": "https://localhost:8080/",
          "height": 348
        }
      },
      "source": [
        "#negative words\n",
        "neg_lines = list(df2[df2.label == -1].headline)\n",
        "\n",
        "neg_tokens = process_text(neg_lines)\n",
        "neg_freq = nltk.FreqDist(neg_tokens)\n",
        "\n",
        "neg_freq.most_common(20)"
      ],
      "execution_count": 0,
      "outputs": [
        {
          "output_type": "execute_result",
          "data": {
            "text/plain": [
              "[('trump', 141),\n",
              " ('war', 51),\n",
              " ('iran', 38),\n",
              " ('house', 26),\n",
              " ('us', 25),\n",
              " ('bank', 23),\n",
              " ('china', 21),\n",
              " ('report', 20),\n",
              " ('says', 20),\n",
              " ('trade', 20),\n",
              " ('news', 20),\n",
              " ('deutsche', 19),\n",
              " ('fox', 19),\n",
              " ('ban', 18),\n",
              " ('end', 17),\n",
              " ('suspicious', 17),\n",
              " ('mcgahn', 16),\n",
              " ('abortion', 15),\n",
              " ('congress', 14),\n",
              " ('accused', 14)]"
            ]
          },
          "metadata": {
            "tags": []
          },
          "execution_count": 114
        }
      ]
    },
    {
      "cell_type": "code",
      "metadata": {
        "id": "AScj1h1RHT32",
        "colab_type": "code",
        "outputId": "a027d521-e4b3-49fc-9b50-45777931d25f",
        "colab": {
          "base_uri": "https://localhost:8080/",
          "height": 374
        }
      },
      "source": [
        "y_val = [x[1] for x in neg_freq.most_common()]\n",
        "\n",
        "fig = plt.figure(figsize=(10,5))\n",
        "plt.plot(y_val)\n",
        "\n",
        "plt.xlabel(\"Words\")\n",
        "plt.ylabel(\"Frequency\")\n",
        "plt.title(\"Word Frequency Distribution (Negative)\")\n",
        "plt.show()"
      ],
      "execution_count": 0,
      "outputs": [
        {
          "output_type": "display_data",
          "data": {
            "image/png": "[encoded data removed]",
            "text/plain": [
              "<Figure size 720x360 with 1 Axes>"
            ]
          },
          "metadata": {
            "tags": []
          }
        }
      ]
    },
    {
      "cell_type": "code",
      "metadata": {
        "id": "rIaTDTkBH3n7",
        "colab_type": "code",
        "outputId": "2a2586af-43c7-41c4-f150-bbf479a612ac",
        "colab": {
          "base_uri": "https://localhost:8080/",
          "height": 374
        }
      },
      "source": [
        "y_final = []\n",
        "for i, k, z in zip(y_val[0::3], y_val[1::3], y_val[2::3]):\n",
        "    if i + k + z == 0:\n",
        "        break\n",
        "    y_final.append(math.log(i + k + z))\n",
        "\n",
        "x_val = [math.log(i+1) for i in range(len(y_final))]\n",
        "\n",
        "fig = plt.figure(figsize=(10,5))\n",
        "\n",
        "plt.xlabel(\"Words (Log)\")\n",
        "plt.ylabel(\"Frequency (Log)\")\n",
        "plt.title(\"Word Frequency Distribution (Negative)\")\n",
        "plt.plot(x_val, y_final)\n",
        "plt.show()"
      ],
      "execution_count": 0,
      "outputs": [
        {
          "output_type": "display_data",
          "data": {
            "image/png": "[encoded data removed]",
            "text/plain": [
              "<Figure size 720x360 with 1 Axes>"
            ]
          },
          "metadata": {
            "tags": []
          }
        }
      ]
    }
  ]
}